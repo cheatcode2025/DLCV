{
 "cells": [
  {
   "cell_type": "markdown",
   "metadata": {
    "id": "m8KQBONW5coC"
   },
   "source": [
    "# Lab Assignment 7\n",
    "\n",
    "## Problem Statement:\n",
    "Write a program to implement an Artificial Neural Network (ANN) to classify the MNIST dataset of handwritten digits.\n",
    "\n",
    "## Hints for Solution:\n",
    "Framework: You can use PyTorch to solve this assignment. PyTorch provides an efficient way to handle data, define models, and perform training and evaluation on datasets.\n",
    "\n",
    "## Pseudocode Outline:\n",
    "\n",
    "* Step 1: Set up the MNIST dataset with training and testing splits.\n",
    "* Step 2: Define a simple neural network model with:\n",
    "  * One input layer that takes in flattened 28x28 images (784 inputs).\n",
    "  * One to three hidden layer with a suitable number of neurons (e.g., 512, 256, 128).\n",
    "  * One output layer with 10 neurons (one for each digit).\n",
    "* Step 3: Define the loss function and optimizer.\n",
    "* Step 4: Implement a training loop:\n",
    "  * Load each batch of images and labels.\n",
    "  * Forward pass: Compute predictions and calculate the loss.\n",
    "  * Backward pass: Update model weights based on loss.\n",
    "* Step 5: Evaluate model accuracy on test data.\n",
    "\n",
    "## Helpful PyTorch Functions:\n",
    "\n",
    "* Data Loading:\n",
    "  * Use `torchvision.datasets.MNIST` to download and load the dataset.\n",
    "  * Use `torch.utils.data.DataLoader` to handle batch processing and shuffling.\n",
    "* Model Definition:\n",
    "  * Use `torch.nn.Linear` to create fully connected (dense) layers.\n",
    "  * Use `torch.nn.ReLU` for activation between layers.\n",
    "* Training:\n",
    "  * Use `torch.optim.RMSprop` or `torch.optim.ADAM` to define the optimizer.\n",
    "  * Use `torch.nn.CrossEntropyLoss` as the loss function.\n",
    "* Evaluation:\n",
    "  * Use `torch.max` to find the predicted label for each image.\n",
    "\n",
    "This approach will help you train a neural network to classify handwritten digits with a basic ANN structure."
   ]
  },
  {
   "cell_type": "code",
   "execution_count": 1,
   "metadata": {
    "id": "4JwHbg9-6Xy4"
   },
   "outputs": [],
   "source": [
    "### WRITE CODE HERE ###\n",
    "import torch\n",
    "import torch.nn as nn\n",
    "import torch.optim as optim\n",
    "\n",
    "import torchvision\n",
    "from torchvision import datasets, transforms\n",
    "\n",
    "device = torch.device('cuda' if torch.cuda.is_available() else 'cpu')"
   ]
  },
  {
   "cell_type": "code",
   "execution_count": 2,
   "metadata": {
    "colab": {
     "base_uri": "https://localhost:8080/"
    },
    "id": "y2xdKhq6PGiX",
    "outputId": "b80661c0-2add-48a7-f024-085def77f1f0"
   },
   "outputs": [
    {
     "name": "stdout",
     "output_type": "stream",
     "text": [
      "Downloading http://yann.lecun.com/exdb/mnist/train-images-idx3-ubyte.gz\n",
      "Failed to download (trying next):\n",
      "HTTP Error 403: Forbidden\n",
      "\n",
      "Downloading https://ossci-datasets.s3.amazonaws.com/mnist/train-images-idx3-ubyte.gz\n",
      "Downloading https://ossci-datasets.s3.amazonaws.com/mnist/train-images-idx3-ubyte.gz to ./data/MNIST/raw/train-images-idx3-ubyte.gz\n"
     ]
    },
    {
     "name": "stderr",
     "output_type": "stream",
     "text": [
      "100%|██████████| 9.91M/9.91M [00:00<00:00, 15.9MB/s]\n"
     ]
    },
    {
     "name": "stdout",
     "output_type": "stream",
     "text": [
      "Extracting ./data/MNIST/raw/train-images-idx3-ubyte.gz to ./data/MNIST/raw\n",
      "\n",
      "Downloading http://yann.lecun.com/exdb/mnist/train-labels-idx1-ubyte.gz\n",
      "Failed to download (trying next):\n",
      "HTTP Error 403: Forbidden\n",
      "\n",
      "Downloading https://ossci-datasets.s3.amazonaws.com/mnist/train-labels-idx1-ubyte.gz\n",
      "Downloading https://ossci-datasets.s3.amazonaws.com/mnist/train-labels-idx1-ubyte.gz to ./data/MNIST/raw/train-labels-idx1-ubyte.gz\n"
     ]
    },
    {
     "name": "stderr",
     "output_type": "stream",
     "text": [
      "100%|██████████| 28.9k/28.9k [00:00<00:00, 481kB/s]\n"
     ]
    },
    {
     "name": "stdout",
     "output_type": "stream",
     "text": [
      "Extracting ./data/MNIST/raw/train-labels-idx1-ubyte.gz to ./data/MNIST/raw\n",
      "\n",
      "Downloading http://yann.lecun.com/exdb/mnist/t10k-images-idx3-ubyte.gz\n",
      "Failed to download (trying next):\n",
      "HTTP Error 403: Forbidden\n",
      "\n",
      "Downloading https://ossci-datasets.s3.amazonaws.com/mnist/t10k-images-idx3-ubyte.gz\n",
      "Downloading https://ossci-datasets.s3.amazonaws.com/mnist/t10k-images-idx3-ubyte.gz to ./data/MNIST/raw/t10k-images-idx3-ubyte.gz\n"
     ]
    },
    {
     "name": "stderr",
     "output_type": "stream",
     "text": [
      "100%|██████████| 1.65M/1.65M [00:00<00:00, 4.43MB/s]\n"
     ]
    },
    {
     "name": "stdout",
     "output_type": "stream",
     "text": [
      "Extracting ./data/MNIST/raw/t10k-images-idx3-ubyte.gz to ./data/MNIST/raw\n",
      "\n",
      "Downloading http://yann.lecun.com/exdb/mnist/t10k-labels-idx1-ubyte.gz\n",
      "Failed to download (trying next):\n",
      "HTTP Error 403: Forbidden\n",
      "\n",
      "Downloading https://ossci-datasets.s3.amazonaws.com/mnist/t10k-labels-idx1-ubyte.gz\n",
      "Downloading https://ossci-datasets.s3.amazonaws.com/mnist/t10k-labels-idx1-ubyte.gz to ./data/MNIST/raw/t10k-labels-idx1-ubyte.gz\n"
     ]
    },
    {
     "name": "stderr",
     "output_type": "stream",
     "text": [
      "100%|██████████| 4.54k/4.54k [00:00<00:00, 2.76MB/s]"
     ]
    },
    {
     "name": "stdout",
     "output_type": "stream",
     "text": [
      "Extracting ./data/MNIST/raw/t10k-labels-idx1-ubyte.gz to ./data/MNIST/raw\n",
      "\n"
     ]
    },
    {
     "name": "stderr",
     "output_type": "stream",
     "text": [
      "\n"
     ]
    }
   ],
   "source": [
    "# hyper parameters\n",
    "batch_size = 128\n",
    "learning_rate = 0.001\n",
    "num_epochs = 10\n",
    "\n",
    "# download the dataset\n",
    "transform = transforms.Compose([transforms.ToTensor(), \n",
    "                        transforms.Normalize((0.5,), (0.5,))])\n",
    "train_dataset = datasets.MNIST(root='./data', train=True, \n",
    "                            transform=transform, download=True)\n",
    "test_dataset = datasets.MNIST(root='./data', train=False, \n",
    "                              transform=transform)\n",
    "train_loader = torch.utils.data.DataLoader(train_dataset, \n",
    "                            batch_size=batch_size, shuffle=True)\n",
    "test_loader = torch.utils.data.DataLoader(test_dataset, batch_size=\n",
    "                                          batch_size, shuffle=False)\n",
    "\n",
    "class SimpleANN(nn.Module):\n",
    "    def __init__(self, input_size, hidden_sizes, num_classes):\n",
    "        super(SimpleANN, self).__init__()\n",
    "        self.fc1 = nn.Linear(input_size, hidden_sizes[0])\n",
    "        self.fc2 = nn.Linear(hidden_sizes[0], hidden_sizes[1])\n",
    "        self.fc3 = nn.Linear(hidden_sizes[1], hidden_sizes[2])\n",
    "        self.fc4 = nn.Linear(hidden_sizes[2], num_classes)\n",
    "        self.relu = nn.ReLU()\n",
    "\n",
    "    def forward(self, x):\n",
    "        out = self.fc1(x)\n",
    "        out = self.relu(out)\n",
    "        out = self.fc2(out)\n",
    "        out = self.relu(out)\n",
    "        out = self.fc3(out)\n",
    "        out = self.relu(out)\n",
    "        out = self.fc4(out)\n",
    "        return out"
   ]
  },
  {
   "cell_type": "code",
   "execution_count": 3,
   "metadata": {
    "colab": {
     "base_uri": "https://localhost:8080/"
    },
    "id": "P0T7vPr7QG40",
    "outputId": "917d0f0f-b626-4805-cc62-bbdce2262e61"
   },
   "outputs": [
    {
     "name": "stdout",
     "output_type": "stream",
     "text": [
      "Epoch [1/10], Loss: 0.3561, Training Accuracy: 89.19%\n",
      "Epoch [2/10], Loss: 0.1495, Training Accuracy: 95.44%\n",
      "Epoch [3/10], Loss: 0.1095, Training Accuracy: 96.53%\n",
      "Epoch [4/10], Loss: 0.0856, Training Accuracy: 97.34%\n",
      "Epoch [5/10], Loss: 0.0715, Training Accuracy: 97.71%\n",
      "Epoch [6/10], Loss: 0.0608, Training Accuracy: 98.03%\n",
      "Epoch [7/10], Loss: 0.0554, Training Accuracy: 98.22%\n",
      "Epoch [8/10], Loss: 0.0480, Training Accuracy: 98.42%\n",
      "Epoch [9/10], Loss: 0.0441, Training Accuracy: 98.59%\n",
      "Epoch [10/10], Loss: 0.0405, Training Accuracy: 98.71%\n"
     ]
    }
   ],
   "source": [
    "model = SimpleANN(28*28, [512, 256, 128], 10).to(device)\n",
    "\n",
    "criterion = nn.CrossEntropyLoss()\n",
    "optimizer = optim.Adam(model.parameters(), lr=learning_rate)\n",
    "\n",
    "for epoch in range(num_epochs):\n",
    "    train_correct = 0\n",
    "    train_total = 0\n",
    "    train_loss = 0.0\n",
    "    for i, (images, labels) in enumerate(train_loader):\n",
    "        images = images.reshape(-1, 28*28).to(device)\n",
    "        labels = labels.to(device)\n",
    "\n",
    "        # Forward pass\n",
    "        outputs = model(images)\n",
    "        loss = criterion(outputs, labels)\n",
    "        train_loss += loss.item()\n",
    "\n",
    "        # Backward pass and optimization\n",
    "        optimizer.zero_grad()\n",
    "        loss.backward()\n",
    "        optimizer.step()\n",
    "\n",
    "        _, predicted = torch.max(outputs.data, 1)\n",
    "        train_total += labels.size(0)\n",
    "        train_correct += (predicted == labels).sum().item()\n",
    "\n",
    "    train_accuracy = 100 * train_correct / train_total\n",
    "    avg_train_loss = train_loss / len(train_loader)\n",
    "    print(f\"Epoch [{epoch+1}/{num_epochs}], Loss: {avg_train_loss:.4f}, \n",
    "                Training Accuracy: {train_accuracy:.2f}%\")"
   ]
  },
  {
   "cell_type": "code",
   "execution_count": 4,
   "metadata": {
    "colab": {
     "base_uri": "https://localhost:8080/"
    },
    "id": "o684QF10QeoT",
    "outputId": "da461b24-e758-4ce9-e3e2-199f458f898a"
   },
   "outputs": [
    {
     "name": "stdout",
     "output_type": "stream",
     "text": [
      "Test Accuracy of the model: 100.0 %\n"
     ]
    }
   ],
   "source": [
    "model.eval()\n",
    "with torch.no_grad():\n",
    "    correct = 0\n",
    "    total = 0\n",
    "\n",
    "    for images, labels in test_loader:\n",
    "        images = images.reshape(-1, 28*28).to(device)\n",
    "labels = labels.to(device)\n",
    "outputs = model(images)\n",
    "_, predicted = torch.max(outputs.data, 1)\n",
    "total += labels.size(0)\n",
    "correct += (predicted == labels).sum().item()\n",
    "print(f'Test Accuracy of the model: {100 * correct / total} %')"
   ]
  },
  {
   "cell_type": "code",
   "execution_count": null,
   "metadata": {
    "id": "h7R_PJXeeBsF"
   },
   "outputs": [],
   "source": []
  }
 ],
 "metadata": {
  "colab": {
   "provenance": []
  },
  "kernelspec": {
   "display_name": "Python 3 (ipykernel)",
   "language": "python",
   "name": "python3"
  },
  "language_info": {
   "codemirror_mode": {
    "name": "ipython",
    "version": 3
   },
   "file_extension": ".py",
   "mimetype": "text/x-python",
   "name": "python",
   "nbconvert_exporter": "python",
   "pygments_lexer": "ipython3",
   "version": "3.11.4"
  }
 },
 "nbformat": 4,
 "nbformat_minor": 1
}
